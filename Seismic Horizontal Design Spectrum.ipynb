{
 "cells": [
  {
   "cell_type": "markdown",
   "metadata": {},
   "source": [
    "**CraxLab.net | CxL | Department of Civil Engineering | Sakarya University**\n",
    "\n",
    "---"
   ]
  },
  {
   "cell_type": "markdown",
   "metadata": {},
   "source": [
    "## Example 1: Horizontal Acceleration Design Spectrum according to TSCB-2019\n",
    "![](./figures_files/Ex_Design_SpectrumHor2.png)\n",
    "![](./figures_files/Ex_Design_SpectrumHor1.png)"
   ]
  },
  {
   "cell_type": "markdown",
   "metadata": {},
   "source": [
    "**Calculation of Sae for a single period value, T:**"
   ]
  },
  {
   "cell_type": "code",
   "execution_count": 1,
   "metadata": {},
   "outputs": [
    {
     "name": "stdout",
     "output_type": "stream",
     "text": [
      "Enter building period:0.5\n",
      "Sae= 1.2144000000000001 g\n"
     ]
    }
   ],
   "source": [
    "# TBDY 2019'a göre \"Yatay Elastik Tasarım Spektrumu\" hesabı\n",
    "# INPUTS\n",
    "shr =\"Sakarya\"    # Şehir\n",
    "zmn =\"ZE\"         # Zemin Sınıfı\n",
    "Ss = 1.518 \n",
    "Fs = 0.800\n",
    "S1 = 0.417  \n",
    "F1 = 2.366\n",
    "Ti = float(input(\"Enter building period:\"))\n",
    "\n",
    "# CALCULATIONS\n",
    "Sds = Ss*Fs\n",
    "Sd1 = S1*F1\n",
    "Ta = 0.2*Sd1/Sds \n",
    "Tb = Sd1/Sds\n",
    "Tl = 6.0\n",
    "\n",
    "# Sae ; [g]; elastik tasarım spektral ivmeleri\n",
    "\n",
    "if Ti <= Ta:\n",
    "    Sae = (0.4 + 0.6*Ti/Ta)*Sds\n",
    "elif Ti>Ta and Ti <= Tb:\n",
    "    Sae = Sds\n",
    "elif Ti>Tb and Ti <= Tl:\n",
    "    Sae = Sd1/Ti\n",
    "else: Sae = Sd1*Tl/Ti**2\n",
    "\n",
    "print(\"Sae=\", Sae, \"g\")"
   ]
  },
  {
   "cell_type": "markdown",
   "metadata": {},
   "source": [
    "**Calculation of Acceleration Design Spectrum:**"
   ]
  },
  {
   "cell_type": "code",
   "execution_count": 2,
   "metadata": {},
   "outputs": [
    {
     "data": {
      "text/plain": [
       "list"
      ]
     },
     "execution_count": 2,
     "metadata": {},
     "output_type": "execute_result"
    },
    {
     "data": {
      "image/png": "[encoded data removed]",
      "text/plain": [
       "<Figure size 432x288 with 1 Axes>"
      ]
     },
     "metadata": {
      "needs_background": "light"
     },
     "output_type": "display_data"
    }
   ],
   "source": [
    "# INPUTS\n",
    "shr =\"Sakarya\"    # Şehir\n",
    "zmn =\"ZE\"         # Zemin Sınıfı\n",
    "Ss = 1.518 \n",
    "Fs = 0.800\n",
    "S1 = 0.417  \n",
    "F1 = 2.366\n",
    "\n",
    "# CALCULATIONS\n",
    "Sds = Ss*Fs\n",
    "Sd1 = S1*F1\n",
    "Ta = 0.2*Sd1/Sds \n",
    "Tb = Sd1/Sds\n",
    "Tl = 6.0\n",
    "\n",
    "import numpy as np\n",
    "T = np.arange(0.01, 10, 0.1)\n",
    "# print(\"T=\", T)\n",
    "\n",
    "Sae = []        # [g]; elastik tasarım spektral ivmeleri\n",
    "for Ti in T:\n",
    "    if Ti <= Ta:\n",
    "        Saei = (0.4 + 0.6*Ti/Ta)*Sds\n",
    "    elif Ti>Ta and Ti <= Tb:\n",
    "        Saei = Sds\n",
    "    elif Ti>Tb and Ti <= Tl:\n",
    "        Saei = Sd1/Ti\n",
    "    else: Saei = Sd1*Tl/Ti**2\n",
    "        \n",
    "    Sae.append(Saei)  \n",
    "\n",
    "    \n",
    "# Plot spectrum\n",
    "import matplotlib.pyplot as plt\n",
    "plt.plot(T,Sae)      # Basit tek çizim\n",
    "\n",
    "type(Sae)\n",
    "\n",
    "# Saeg = Sae*9.81\n",
    "# plt.plot(T,Sae)      # Basit tek çizim"
   ]
  },
  {
   "cell_type": "markdown",
   "metadata": {},
   "source": [
    "---\n",
    "## Example 2: Horizontal Displacement Design Spectrum according to TSCB-2019\n",
    "\n",
    "![](./figures_files/Ex_Design_SpectrumHor3.png)"
   ]
  },
  {
   "cell_type": "code",
   "execution_count": 3,
   "metadata": {},
   "outputs": [
    {
     "data": {
      "text/plain": [
       "[<matplotlib.lines.Line2D at 0x1fba2d3dfd0>]"
      ]
     },
     "execution_count": 3,
     "metadata": {},
     "output_type": "execute_result"
    },
    {
     "data": {
      "image/png": "[encoded data removed]",
      "text/plain": [
       "<Figure size 432x288 with 1 Axes>"
      ]
     },
     "metadata": {
      "needs_background": "light"
     },
     "output_type": "display_data"
    }
   ],
   "source": [
    "g = 9.81\n",
    "\n",
    "Sde = []\n",
    "for i in range(len(T)):\n",
    "    Sdei = T[i]**2/(4*3.14**2)*g*Sae[i]\n",
    "    Sde.append(Sdei)\n",
    "# print(Sde)\n",
    "\n",
    "# Plot spectrum\n",
    "import matplotlib.pyplot as plt\n",
    "plt.plot(T,Sde)      # Basit tek çizim"
   ]
  },
  {
   "cell_type": "markdown",
   "metadata": {},
   "source": [
    "**Another method without for loop:**"
   ]
  },
  {
   "cell_type": "code",
   "execution_count": 4,
   "metadata": {},
   "outputs": [
    {
     "data": {
      "text/plain": [
       "[<matplotlib.lines.Line2D at 0x1fba2550790>]"
      ]
     },
     "execution_count": 4,
     "metadata": {},
     "output_type": "execute_result"
    },
    {
     "data": {
      "image/png": "[encoded data removed]",
      "text/plain": [
       "<Figure size 432x288 with 1 Axes>"
      ]
     },
     "metadata": {
      "needs_background": "light"
     },
     "output_type": "display_data"
    }
   ],
   "source": [
    "g = 9.81\n",
    "Sde = T**2/(4*3.14**2)*g*Sae\n",
    "# print(Sde)\n",
    "\n",
    "# Plot spectrum\n",
    "import matplotlib.pyplot as plt\n",
    "plt.plot(T,Sde)      # Basit tek çizim"
   ]
  },
  {
   "cell_type": "code",
   "execution_count": null,
   "metadata": {},
   "outputs": [],
   "source": []
  }
 ],
 "metadata": {
  "hide_input": false,
  "kernelspec": {
   "display_name": "Python 3 (ipykernel)",
   "language": "python",
   "name": "python3"
  },
  "language_info": {
   "codemirror_mode": {
    "name": "ipython",
    "version": 3
   },
   "file_extension": ".py",
   "mimetype": "text/x-python",
   "name": "python",
   "nbconvert_exporter": "python",
   "pygments_lexer": "ipython3",
   "version": "3.9.12"
  },
  "varInspector": {
   "cols": {
    "lenName": 16,
    "lenType": 16,
    "lenVar": 40
   },
   "kernels_config": {
    "python": {
     "delete_cmd_postfix": "",
     "delete_cmd_prefix": "del ",
     "library": "var_list.py",
     "varRefreshCmd": "print(var_dic_list())"
    },
    "r": {
     "delete_cmd_postfix": ") ",
     "delete_cmd_prefix": "rm(",
     "library": "var_list.r",
     "varRefreshCmd": "cat(var_dic_list()) "
    }
   },
   "types_to_exclude": [
    "module",
    "function",
    "builtin_function_or_method",
    "instance",
    "_Feature"
   ],
   "window_display": false
  }
 },
 "nbformat": 4,
 "nbformat_minor": 4
}
