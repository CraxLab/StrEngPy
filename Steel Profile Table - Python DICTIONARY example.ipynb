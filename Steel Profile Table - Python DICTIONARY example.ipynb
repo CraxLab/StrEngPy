{
 "cells": [
  {
   "cell_type": "markdown",
   "metadata": {},
   "source": [
    "**CraxLab.net | CxL | Department of Civil Engineering | Sakarya University**\n",
    "\n",
    "---"
   ]
  },
  {
   "cell_type": "markdown",
   "metadata": {},
   "source": [
    "Write a program;\n",
    "- asking a user to input a profile name from following the steel profile table. \n",
    "- Writing properties of the relevant profile name on the screen.\n",
    "\n",
    "<img src=\"./figures_files/IPN_Profil.png\" align=\"left\"/>"
   ]
  },
  {
   "cell_type": "code",
   "execution_count": 4,
   "metadata": {},
   "outputs": [
    {
     "name": "stdout",
     "output_type": "stream",
     "text": [
      "{'IPN100': {'h': 100, 'b': 50, 'tw': 4.5, 'tf': 6.8}, 'IPN120': {'h': 120, 'b': 58, 'tw': 5.1, 'tf': 7.7}, 'IPN140': {'h': 140, 'b': 66, 'tw': 5.7, 'tf': 8.6}, 'IPN160': {'h': 160, 'b': 74, 'tw': 6.3, 'tf': 9.5}, 'IPN180': {'h': 180, 'b': 82, 'tw': 6.9, 'tf': 10.4}, 'IPN200': {'h': 200, 'b': 90, 'tw': 7.5, 'tf': 11.3}, 'IPN220': {'h': 220, 'b': 98, 'tw': 8.1, 'tf': 12.2}, 'IPN240': {'h': 240, 'b': 106, 'tw': 8.7, 'tf': 13.1}, 'IPN260': {'h': 260, 'b': 113, 'tw': 9.4, 'tf': 14.1}, 'IPN280': {'h': 280, 'b': 119, 'tw': 10.1, 'tf': 15.2}, 'IPN300': {'h': 300, 'b': 125, 'tw': 10.8, 'tf': 16.2}, 'IPN320': {'h': 320, 'b': 131, 'tw': 11.5, 'tf': 17.3}, 'IPN340': {'h': 340, 'b': 137, 'tw': 12.2, 'tf': 18.3}, 'IPN360': {'h': 360, 'b': 143, 'tw': 13, 'tf': 19.5}, 'IPN380': {'h': 380, 'b': 149, 'tw': 13.7, 'tf': 20.5}, 'IPN400': {'h': 400, 'b': 155, 'tw': 14.4, 'tf': 21.6}, 'IPN450': {'h': 450, 'b': 170, 'tw': 16.2, 'tf': 24.3}, 'IPN500': {'h': 500, 'b': 185, 'tw': 18, 'tf': 27}, 'IPN550': {'h': 550, 'b': 200, 'tw': 19, 'tf': 30}, 'IPN600': {'h': 600, 'b': 215, 'tw': 21.6, 'tf': 32.4}}\n"
     ]
    }
   ],
   "source": [
    "profiles = {\n",
    "    \"IPN100\":{\"h\":100, \"b\":50, \"tw\":4.5, \"tf\":6.8},\n",
    "    \"IPN120\":{\"h\":120, \"b\":58, \"tw\":5.1, \"tf\":7.7},\n",
    "    \"IPN140\":{\"h\":140, \"b\":66, \"tw\":5.7, \"tf\":8.6},\n",
    "    \"IPN160\":{\"h\":160, \"b\":74, \"tw\":6.3, \"tf\":9.5},\n",
    "    \"IPN180\":{\"h\":180, \"b\":82, \"tw\":6.9, \"tf\":10.4},\n",
    "    \"IPN200\":{\"h\":200, \"b\":90, \"tw\":7.5, \"tf\":11.3},\n",
    "    \"IPN220\":{\"h\":220, \"b\":98, \"tw\":8.1, \"tf\":12.2},\n",
    "    \"IPN240\":{\"h\":240, \"b\":106, \"tw\":8.7, \"tf\":13.1},\n",
    "    \"IPN260\":{\"h\":260, \"b\":113, \"tw\":9.4, \"tf\":14.1},\n",
    "    \"IPN280\":{\"h\":280, \"b\":119, \"tw\":10.1, \"tf\":15.2},\n",
    "    \"IPN300\":{\"h\":300, \"b\":125, \"tw\":10.8, \"tf\":16.2},\n",
    "    \"IPN320\":{\"h\":320, \"b\":131, \"tw\":11.5, \"tf\":17.3},\n",
    "    \"IPN340\":{\"h\":340, \"b\":137, \"tw\":12.2, \"tf\":18.3},\n",
    "    \"IPN360\":{\"h\":360, \"b\":143, \"tw\":13, \"tf\":19.5},\n",
    "    \"IPN380\":{\"h\":380, \"b\":149, \"tw\":13.7, \"tf\":20.5},\n",
    "    \"IPN400\":{\"h\":400, \"b\":155, \"tw\":14.4, \"tf\":21.6},\n",
    "    \"IPN450\":{\"h\":450, \"b\":170, \"tw\":16.2, \"tf\":24.3},\n",
    "    \"IPN500\":{\"h\":500, \"b\":185, \"tw\":18, \"tf\":27},\n",
    "    \"IPN550\":{\"h\":550, \"b\":200, \"tw\":19, \"tf\":30},\n",
    "    \"IPN600\":{\"h\":600, \"b\":215, \"tw\":21.6, \"tf\":32.4}\n",
    "}\n",
    "print(profiles)"
   ]
  },
  {
   "cell_type": "code",
   "execution_count": 6,
   "metadata": {},
   "outputs": [
    {
     "name": "stdout",
     "output_type": "stream",
     "text": [
      "Enter a profile name from the steel IPN profile table:IPN320\n",
      "Profile Name: IPN320, h: 320 mm, b: 131 mm, tw: 11.5 mm, tf: 17.3 mm\n"
     ]
    }
   ],
   "source": [
    "ProName = input(\"Enter a profile name from the steel IPN profile table:\")\n",
    "h = profiles[ProName][\"h\"]\n",
    "b = profiles[ProName][\"b\"]\n",
    "tw = profiles[ProName][\"tw\"]\n",
    "tf = profiles[ProName][\"tf\"]\n",
    "\n",
    "print(f\"Profile Name: {ProName}, h: {h} mm, b: {b} mm, tw: {tw} mm, tf: {tf} mm\")"
   ]
  },
  {
   "cell_type": "code",
   "execution_count": null,
   "metadata": {},
   "outputs": [],
   "source": []
  }
 ],
 "metadata": {
  "hide_input": false,
  "kernelspec": {
   "display_name": "Python 3 (ipykernel)",
   "language": "python",
   "name": "python3"
  },
  "language_info": {
   "codemirror_mode": {
    "name": "ipython",
    "version": 3
   },
   "file_extension": ".py",
   "mimetype": "text/x-python",
   "name": "python",
   "nbconvert_exporter": "python",
   "pygments_lexer": "ipython3",
   "version": "3.9.12"
  },
  "varInspector": {
   "cols": {
    "lenName": 16,
    "lenType": 16,
    "lenVar": 40
   },
   "kernels_config": {
    "python": {
     "delete_cmd_postfix": "",
     "delete_cmd_prefix": "del ",
     "library": "var_list.py",
     "varRefreshCmd": "print(var_dic_list())"
    },
    "r": {
     "delete_cmd_postfix": ") ",
     "delete_cmd_prefix": "rm(",
     "library": "var_list.r",
     "varRefreshCmd": "cat(var_dic_list()) "
    }
   },
   "types_to_exclude": [
    "module",
    "function",
    "builtin_function_or_method",
    "instance",
    "_Feature"
   ],
   "window_display": false
  }
 },
 "nbformat": 4,
 "nbformat_minor": 4
}
