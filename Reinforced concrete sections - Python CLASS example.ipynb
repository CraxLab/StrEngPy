{
 "cells": [
  {
   "cell_type": "markdown",
   "id": "a3317c86",
   "metadata": {},
   "source": [
    "**CraxLab.net | CxL | Department of Civil Engineering | Sakarya University**\n",
    "\n",
    "---"
   ]
  },
  {
   "cell_type": "code",
   "execution_count": 1,
   "id": "5c606641",
   "metadata": {},
   "outputs": [],
   "source": [
    "import numpy as np\n",
    "\n",
    "# Define a \"Concrete\" class including compressive strength of concrete and modulus of elasticity\n",
    "class Concrete: # define the class name\n",
    "    \n",
    "    # note: \"self\" refers to whatever the objects running in this class\n",
    "    #      so, \"self\" must be added as a default argument in every \"method (function)\" and \"constructor\"\n",
    "    # here self refers to objects C25, C30, ...\n",
    "    \n",
    "    # define a \"constructor\" to create \"attributes (instance variables)\"\n",
    "    def __init__(self, cls, fck):\n",
    "        # define attributes (instance variables)\n",
    "        self.name = cls                   # class name of concrete\n",
    "        self.fck = fck                    # compressive strength of concrete\n",
    "        self.E = 5700*np.sqrt(self.fck)   # modulus of elasticity of concrete\n",
    "    \n",
    "    # define a \"method\" (function) to print concrete properties\n",
    "    def printConcreteProp(self):\n",
    "        print(f'Conc. Class: {self.name}, fck = {self.fck} MPa, E = {self.E} MPa')"
   ]
  },
  {
   "cell_type": "code",
   "execution_count": 2,
   "id": "257075be",
   "metadata": {},
   "outputs": [],
   "source": [
    "# Create material class \"objects\" by using the \"constructor\"\n",
    "C25 = Concrete('C25', 25)\n",
    "C30 = Concrete('C30', 30)\n",
    "C35 = Concrete('C30', 30)\n",
    "C40 = Concrete('C30', 30)"
   ]
  },
  {
   "cell_type": "code",
   "execution_count": 3,
   "id": "25b5ec90",
   "metadata": {},
   "outputs": [
    {
     "name": "stdout",
     "output_type": "stream",
     "text": [
      "31220.185777794468\n",
      "Conc. Class: C25, fck = 25 MPa, E = 28500.0 MPa\n"
     ]
    }
   ],
   "source": [
    "print(C30.E)   # print modulus of elasticity of C30 concrete\n",
    "C25.printConcreteProp() # print C25 concrete properties"
   ]
  },
  {
   "cell_type": "code",
   "execution_count": 4,
   "id": "87b3652c",
   "metadata": {},
   "outputs": [],
   "source": [
    "# Define a Column class including sectinal properties and calculating moment of inertia of the section\n",
    "class Column:\n",
    "    \n",
    "    def __init__(self, n, w, h, m):\n",
    "        self.name = n        # Name of the section\n",
    "        self.width = w       # width of the section\n",
    "        self.height = h      # height of the section\n",
    "        self.material = m    # material type/class of the section\n",
    "        self.area = self.width*self.height\n",
    "    \n",
    "    # define a \"method\" (function) to calculate moment of inertia of the section\n",
    "    def momentInertia(self):\n",
    "        Ix = self.width*self.height**3/12\n",
    "        Iy = self.height*self.width**3/12\n",
    "        return Ix, Iy"
   ]
  },
  {
   "cell_type": "code",
   "execution_count": 5,
   "id": "978164f4",
   "metadata": {},
   "outputs": [],
   "source": [
    "# Create section \"objects\" by using the \"constructor\"\n",
    "C1 = Column('C25x50', 25, 50, C25)\n",
    "C2 = Column('C30x60', 30, 60, C30)\n",
    "C3 = Column('C45x45', 45, 45, C40)"
   ]
  },
  {
   "cell_type": "code",
   "execution_count": 6,
   "id": "41a845c1",
   "metadata": {},
   "outputs": [
    {
     "name": "stdout",
     "output_type": "stream",
     "text": [
      "1250\n"
     ]
    }
   ],
   "source": [
    "# print area of section C1\n",
    "print(C1.area)  "
   ]
  },
  {
   "cell_type": "code",
   "execution_count": 7,
   "id": "7dbb7d8f",
   "metadata": {},
   "outputs": [
    {
     "data": {
      "text/plain": [
       "(540000.0, 135000.0)"
      ]
     },
     "execution_count": 7,
     "metadata": {},
     "output_type": "execute_result"
    }
   ],
   "source": [
    "# calculate moment of inertia of the section C2\n",
    "Ix, Iy = C2.momentInertia()\n",
    "Ix, Iy"
   ]
  },
  {
   "cell_type": "markdown",
   "id": "771f77a9",
   "metadata": {},
   "source": [
    "**combine two classes:**"
   ]
  },
  {
   "cell_type": "code",
   "execution_count": 8,
   "id": "70121d17",
   "metadata": {},
   "outputs": [
    {
     "name": "stdout",
     "output_type": "stream",
     "text": [
      "Conc. Class: C25, fck = 25 MPa, E = 28500.0 MPa\n"
     ]
    }
   ],
   "source": [
    "# print material properties of section C1\n",
    "C1.material.printConcreteProp()"
   ]
  },
  {
   "cell_type": "code",
   "execution_count": 9,
   "id": "dd040419",
   "metadata": {},
   "outputs": [
    {
     "data": {
      "text/plain": [
       "28500.0"
      ]
     },
     "execution_count": 9,
     "metadata": {},
     "output_type": "execute_result"
    }
   ],
   "source": [
    "# print modulus of elasticity of section C1\n",
    "C1.material.E"
   ]
  }
 ],
 "metadata": {
  "hide_input": false,
  "kernelspec": {
   "display_name": "Python 3 (ipykernel)",
   "language": "python",
   "name": "python3"
  },
  "language_info": {
   "codemirror_mode": {
    "name": "ipython",
    "version": 3
   },
   "file_extension": ".py",
   "mimetype": "text/x-python",
   "name": "python",
   "nbconvert_exporter": "python",
   "pygments_lexer": "ipython3",
   "version": "3.9.12"
  },
  "varInspector": {
   "cols": {
    "lenName": 16,
    "lenType": 16,
    "lenVar": 40
   },
   "kernels_config": {
    "python": {
     "delete_cmd_postfix": "",
     "delete_cmd_prefix": "del ",
     "library": "var_list.py",
     "varRefreshCmd": "print(var_dic_list())"
    },
    "r": {
     "delete_cmd_postfix": ") ",
     "delete_cmd_prefix": "rm(",
     "library": "var_list.r",
     "varRefreshCmd": "cat(var_dic_list()) "
    }
   },
   "types_to_exclude": [
    "module",
    "function",
    "builtin_function_or_method",
    "instance",
    "_Feature"
   ],
   "window_display": false
  }
 },
 "nbformat": 4,
 "nbformat_minor": 5
}
