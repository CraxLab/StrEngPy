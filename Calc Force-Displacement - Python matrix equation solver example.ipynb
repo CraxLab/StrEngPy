{
 "cells": [
  {
   "cell_type": "markdown",
   "metadata": {},
   "source": [
    "**CraxLab.net | CxL | Department of Civil Engineering | Sakarya University**\n",
    "\n",
    "---\n",
    "Note: Examples were taken from Dr. Hakan Ozturk's Structural Dynamics course notes"
   ]
  },
  {
   "cell_type": "markdown",
   "metadata": {},
   "source": [
    "**Example 1:**\n",
    "\n",
    "<img src=\"./figures_files/fku.png\" align=\"left\"/>"
   ]
  },
  {
   "cell_type": "code",
   "execution_count": 1,
   "metadata": {},
   "outputs": [
    {
     "name": "stdout",
     "output_type": "stream",
     "text": [
      "[[1500 -500]\n",
      " [-500  500]]\n",
      "[[  0]\n",
      " [200]]\n",
      "[[0.2]\n",
      " [0.6]]\n"
     ]
    }
   ],
   "source": [
    "import numpy as np\n",
    "\n",
    "k1 = 1000\n",
    "k2 = 500\n",
    "\n",
    "F1 = 0\n",
    "F2 = 200\n",
    "\n",
    "\n",
    "K = np.array([[k1+k2, -k2] ,\\\n",
    "              [-k2,    k2, ]   ])\n",
    "print(K)\n",
    "\n",
    "F = np.array([[F1, F2]]).T\n",
    "print(F)\n",
    "\n",
    "u = np.linalg.solve(K, F)\n",
    "print(u)"
   ]
  },
  {
   "cell_type": "markdown",
   "metadata": {},
   "source": [
    "---\n",
    "**Example 2:**\n",
    "\n",
    "<img src=\"./figures_files/fku2.png\" align=\"left\"/>"
   ]
  },
  {
   "cell_type": "code",
   "execution_count": 2,
   "metadata": {},
   "outputs": [
    {
     "name": "stdout",
     "output_type": "stream",
     "text": [
      "[[1800 -800    0]\n",
      " [-800 1400 -600]\n",
      " [   0 -600  600]]\n",
      "[[200]\n",
      " [400]\n",
      " [600]]\n",
      "[[1.2 ]\n",
      " [2.45]\n",
      " [3.45]]\n"
     ]
    }
   ],
   "source": [
    "k1 = 1000\n",
    "k2 = 800\n",
    "k3 = 600\n",
    "\n",
    "F1 = 200\n",
    "F2 = 400\n",
    "F3 = 600\n",
    "\n",
    "K = np.array([[k1+k2, -k2,   0] ,\\\n",
    "              [-k2,  k2+k3, -k3] ,\\\n",
    "              [ 0,   -k3,    k3]  ])\n",
    "print(K)\n",
    "\n",
    "F = np.array([[F1, F2, F3]]).transpose()\n",
    "print(F)\n",
    "\n",
    "u = np.linalg.solve(K, F)\n",
    "print(u)"
   ]
  }
 ],
 "metadata": {
  "hide_input": false,
  "kernelspec": {
   "display_name": "Python 3 (ipykernel)",
   "language": "python",
   "name": "python3"
  },
  "language_info": {
   "codemirror_mode": {
    "name": "ipython",
    "version": 3
   },
   "file_extension": ".py",
   "mimetype": "text/x-python",
   "name": "python",
   "nbconvert_exporter": "python",
   "pygments_lexer": "ipython3",
   "version": "3.9.12"
  },
  "varInspector": {
   "cols": {
    "lenName": 16,
    "lenType": 16,
    "lenVar": 40
   },
   "kernels_config": {
    "python": {
     "delete_cmd_postfix": "",
     "delete_cmd_prefix": "del ",
     "library": "var_list.py",
     "varRefreshCmd": "print(var_dic_list())"
    },
    "r": {
     "delete_cmd_postfix": ") ",
     "delete_cmd_prefix": "rm(",
     "library": "var_list.r",
     "varRefreshCmd": "cat(var_dic_list()) "
    }
   },
   "types_to_exclude": [
    "module",
    "function",
    "builtin_function_or_method",
    "instance",
    "_Feature"
   ],
   "window_display": false
  }
 },
 "nbformat": 4,
 "nbformat_minor": 4
}
