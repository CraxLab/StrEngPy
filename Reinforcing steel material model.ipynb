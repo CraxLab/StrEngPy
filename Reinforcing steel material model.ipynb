{
 "cells": [
  {
   "cell_type": "markdown",
   "metadata": {},
   "source": [
    "**CraxLab.net | CxL | Department of Civil Engineering | Sakarya University**\n",
    "\n",
    "---"
   ]
  },
  {
   "cell_type": "markdown",
   "metadata": {},
   "source": [
    "## Example: Material model of reinforcing bars according to TSCB-2019\n",
    "![](./figures_files/Ex_Reinf_Steel_Model2.png)\n",
    "![](./figures_files/Ex_Reinf_Steel_Model1.png)"
   ]
  },
  {
   "cell_type": "markdown",
   "metadata": {},
   "source": [
    "![](./Figures/Ex/MateialModels/Rebar/Ex_Reinf_Steel_Model3.png)"
   ]
  },
  {
   "cell_type": "markdown",
   "metadata": {},
   "source": [
    "**Donatı özellikleri ve donatının kullanıcı tarafından girilmesi:**"
   ]
  },
  {
   "cell_type": "code",
   "execution_count": 1,
   "metadata": {},
   "outputs": [
    {
     "name": "stdout",
     "output_type": "stream",
     "text": [
      "Enter type of rebar:S420\n"
     ]
    }
   ],
   "source": [
    "rebars = {\n",
    "    \"S220\":{\"fsy\":220, \"esy\":0.0011, \"esh\":0.011, \"esu\":0.12, \"fsu/fsy\":1.20},\n",
    "    \"S420\":{\"fsy\":420, \"esy\":0.0021, \"esh\":0.008, \"esu\":0.08, \"fsu/fsy\":1.15},\n",
    "   \"B420C\":{\"fsy\":420, \"esy\":0.0021, \"esh\":0.008, \"esu\":0.08, \"fsu/fsy\":1.15},\n",
    "   \"B500C\":{\"fsy\":500, \"esy\":0.0025, \"esh\":0.008, \"esu\":0.08, \"fsu/fsy\":1.15},\n",
    "}\n",
    "\n",
    "RType = input(\"Enter type of rebar:\")\n",
    "fsy = rebars[RType][\"fsy\"]\n",
    "fsu = rebars[RType][\"fsu/fsy\"] * fsy\n",
    "esy = rebars[RType][\"esy\"]\n",
    "esh = rebars[RType][\"esh\"]\n",
    "esu = rebars[RType][\"esu\"]\n",
    "Es = 200000    # [MPa]"
   ]
  },
  {
   "cell_type": "markdown",
   "metadata": {},
   "source": [
    "**Şekildeğiştirme değerlerinin oluşturulması:**"
   ]
  },
  {
   "cell_type": "code",
   "execution_count": 2,
   "metadata": {},
   "outputs": [],
   "source": [
    "# Şekildeğiştirme eksenini kendimiz oluşturuyoruz.\n",
    "import numpy as np\n",
    "es = np.arange(0, esu+0.001, 0.001)"
   ]
  },
  {
   "cell_type": "markdown",
   "metadata": {},
   "source": [
    "**Gerilme değerlerinin hesaplanması:**\n",
    "\n",
    "Not: Aşağıdaki 2 yöntemde aynı sonucu vermektedir. İstenilen birisi kullanılabilir."
   ]
  },
  {
   "cell_type": "code",
   "execution_count": 3,
   "metadata": {},
   "outputs": [],
   "source": [
    "# 1) fonksiyon kullanmadan\n",
    "fs = []\n",
    "for esi in es:\n",
    "    if esi <= esy:\n",
    "        fsi = Es*esi\n",
    "    elif esy < esi <= esh:\n",
    "        fsi = fsy\n",
    "    else: fsi = fsu - (fsu-fsy) * (esu-esi)**2 / (esu-esh)**2\n",
    "    fs.append(fsi)"
   ]
  },
  {
   "cell_type": "code",
   "execution_count": 4,
   "metadata": {},
   "outputs": [],
   "source": [
    "# 2) fonksiyon kullanarak\n",
    "def rebar(es, esy, esh, fsy, fsu, Es):\n",
    "    if es <= esy:\n",
    "        fs = Es*es\n",
    "    elif esy < es <= esh:\n",
    "        fs = fsy\n",
    "    else: fs = fsu - (fsu-fsy) * (esu-es)**2 / (esu-esh)**2\n",
    "    return fs\n",
    "\n",
    "fs = []\n",
    "for esi in es:\n",
    "    fsi = rebar(esi, esy, esh, fsy, fsu, Es)\n",
    "    fs.append(fsi)"
   ]
  },
  {
   "cell_type": "markdown",
   "metadata": {},
   "source": [
    "**Grafiğin çizdirilmesi:**"
   ]
  },
  {
   "cell_type": "code",
   "execution_count": 5,
   "metadata": {},
   "outputs": [
    {
     "data": {
      "text/plain": [
       "[<matplotlib.lines.Line2D at 0x22b93700f10>]"
      ]
     },
     "execution_count": 5,
     "metadata": {},
     "output_type": "execute_result"
    },
    {
     "data": {
      "image/png": "[encoded data removed]",
      "text/plain": [
       "<Figure size 432x288 with 1 Axes>"
      ]
     },
     "metadata": {
      "needs_background": "light"
     },
     "output_type": "display_data"
    }
   ],
   "source": [
    "import matplotlib.pyplot as plt\n",
    "plt.plot(es,fs)      # Basit tek çizim"
   ]
  },
  {
   "cell_type": "code",
   "execution_count": null,
   "metadata": {},
   "outputs": [],
   "source": []
  }
 ],
 "metadata": {
  "hide_input": false,
  "kernelspec": {
   "display_name": "Python 3 (ipykernel)",
   "language": "python",
   "name": "python3"
  },
  "language_info": {
   "codemirror_mode": {
    "name": "ipython",
    "version": 3
   },
   "file_extension": ".py",
   "mimetype": "text/x-python",
   "name": "python",
   "nbconvert_exporter": "python",
   "pygments_lexer": "ipython3",
   "version": "3.9.12"
  },
  "varInspector": {
   "cols": {
    "lenName": 16,
    "lenType": 16,
    "lenVar": 40
   },
   "kernels_config": {
    "python": {
     "delete_cmd_postfix": "",
     "delete_cmd_prefix": "del ",
     "library": "var_list.py",
     "varRefreshCmd": "print(var_dic_list())"
    },
    "r": {
     "delete_cmd_postfix": ") ",
     "delete_cmd_prefix": "rm(",
     "library": "var_list.r",
     "varRefreshCmd": "cat(var_dic_list()) "
    }
   },
   "types_to_exclude": [
    "module",
    "function",
    "builtin_function_or_method",
    "instance",
    "_Feature"
   ],
   "window_display": false
  }
 },
 "nbformat": 4,
 "nbformat_minor": 4
}
