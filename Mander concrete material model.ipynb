{
 "cells": [
  {
   "cell_type": "markdown",
   "metadata": {},
   "source": [
    "**CraxLab.net | CxL | Department of Civil Engineering | Sakarya University**\n",
    "\n",
    "---"
   ]
  },
  {
   "cell_type": "markdown",
   "metadata": {},
   "source": [
    "## Example: Mander Material model of concrete according to TSCB-2019\n",
    "![](./figures_files/Ex_ConcreteModel1.png)\n",
    "![](./figures_files/Ex_ConcreteModel.png)"
   ]
  },
  {
   "cell_type": "code",
   "execution_count": 1,
   "metadata": {},
   "outputs": [],
   "source": [
    "import numpy as np\n",
    "from numpy import pi as π\n",
    "from numpy import sqrt as sqrt\n",
    "import matplotlib.pyplot as mplot"
   ]
  },
  {
   "cell_type": "code",
   "execution_count": 2,
   "metadata": {},
   "outputs": [],
   "source": [
    "#%% FUNCTIONS\n",
    "#=====================================================================\n",
    "\" Compressive Behavior of Concrete \"\n",
    "# Unconfined\n",
    "def ManderUnconfined(fcuno,Ec):\n",
    "    εcuno = 0.0020    # Strain at max. fcuno\n",
    "    εcunu = 0.0035    # Strain at ultimate fcunu\n",
    "    εcunm = 0.0050    # Maximum strain; Kullanmadık!..\n",
    "    εcun = np.arange(0,εcunm+0.0001,0.0001)\n",
    "    Esecun = fcuno/εcuno\n",
    "    run = Ec/(Ec-Esecun)\n",
    "    \n",
    "    σcun = []\n",
    "    for εcuni in εcun:\n",
    "        if εcuni <= εcunu:\n",
    "            xun = εcuni/εcuno \n",
    "            σcuni = fcuno*xun*run/(run-1+xun**run)\n",
    "        else:\n",
    "            xunu = εcunu/εcuno  \n",
    "            fcunu = fcuno*xunu*run/(run-1+xunu**run)\n",
    "            σcuni = fcunu - fcunu*(εcuni-εcunu)/(εcunm-εcunu)        \n",
    "        σcun.append(σcuni)\n",
    "    \n",
    "    fcunm = σcun[-1]\n",
    "    return (εcun,σcun,εcuno,fcuno,εcunm,fcunm)\n",
    "\n",
    "#---------------------------------------\n",
    "# Confined\n",
    "def ManderConfined(bo,b1,ho,h1,nsx,nsy,As,s,φw,nwx,nwy,fsyw,fcuno,Ec):\n",
    "    εcuno = 0.0020      # Strain at max. fcuno for unconfined concrete\n",
    "    Tai2 = 2 * (b1**2/(nsx-1) + h1**2/(nsy-1))    # Tai2, Sum of square of the distances between long. bars\n",
    "    ke = (1-Tai2/(6*bo*ho))*(1-s/(2*bo))*(1-s/(2*ho))*(1-As/(bo*ho))**(-1)\n",
    "    ρx = (np.pi*φw**2/4)*nwx/(bo*s)   # Transverse steel reinforcing ratio in X dir.\n",
    "    ρy = (np.pi*φw**2/4)*nwy/(ho*s)   # Transverse steel reinforcing ratio in Y dir.\n",
    "    fex = ke*ρx*fsyw\n",
    "    fey = ke*ρy*fsyw\n",
    "    fe = (fex+fey)/2\n",
    "    λc = 2.254*np.sqrt(1+7.94*fe/fcuno)-2*fe/fcuno-1.254\n",
    "    fcco = λc*fcuno                   # fcc ; Max. compressive stress of concrete\n",
    "    εcco = εcuno*(1+5*(λc-1))         # εcc ; concrete strain corresponding to max. compressive stress of concrete\n",
    "    Esec = fcco/εcco\n",
    "    r = Ec/(Ec-Esec)\n",
    "    \n",
    "    # Ultimate strain calculations\n",
    "    αse = (1-Tai2/(6*bo*ho))*(1-s/(2*bo))*(1-s/(2*ho))\n",
    "    ωwe = αse*min(ρx,ρy)*fsyw/fcuno\n",
    "    εccui = 0.0035+0.04*np.sqrt(ωwe)\n",
    "    if εccui<=0.018:\n",
    "        εccu = εccui\n",
    "    else: εccu = 0.018    \n",
    "    \n",
    "    εcc = np.arange(0,εccu+0.0001,0.0001)    \n",
    "    σcc = []\n",
    "    for εcci in εcc:\n",
    "        x = εcci/εcco\n",
    "        σcci=fcco*x*r/(r-1+x**r)\n",
    "        σcc.append(σcci)\n",
    "\n",
    "    fccu = σcc[-1]   \n",
    "    return (εcc,σcc,εcco,fcco,εccu,fccu)"
   ]
  },
  {
   "cell_type": "code",
   "execution_count": 3,
   "metadata": {},
   "outputs": [],
   "source": [
    "# INPUT DATA\n",
    "#         (top) b (--> X dir.)\n",
    "#        ---------------\n",
    "#        | o    o    o |\n",
    "#        |      |      |\n",
    "#        | o----|----o | \n",
    "#        |      |      | h (Y dir.)\n",
    "# (left) | o----|----o | (right)\n",
    "#        |      |      |\n",
    "#        | o    o    o |\n",
    "#        ---------------\n",
    "#           (bottom)"
   ]
  },
  {
   "cell_type": "code",
   "execution_count": 4,
   "metadata": {},
   "outputs": [
    {
     "name": "stdout",
     "output_type": "stream",
     "text": [
      "Sectional Analysis for RC columns according to Turkish Seismic Code for Buildings (TSCB-2019)\n",
      "All UNITS in Newton, mm, MPa  \n",
      "\n",
      "# of long. bars: 8\n"
     ]
    }
   ],
   "source": [
    "#%% INPUT SECTION PROPERTIES\n",
    "print(\"Sectional Analysis for RC columns according to Turkish Seismic Code for Buildings (TSCB-2019)\")\n",
    "print(\"All UNITS in Newton, mm, MPa  \\n\")\n",
    "\n",
    "# Section Properties\n",
    "b  = 250.0\t\t# [mm], Section's Dimension on 'X' direction \n",
    "h  = 500.0\t\t# [mm], Section's Dimension on 'Y' direction (larger Dim)\n",
    "cc = 25.0\t\t# [mm], Net concrete cover from the outer edge of stirrups\n",
    "\n",
    "# Longitudinal Bars\n",
    "φs  = 16.0 \t\t# [mm], diameter of longitudinal bars\n",
    "nsx = 3 \t\t# number of longitudinal bars in X direction in one row\n",
    "nsy = 3 \t\t# number of longitudinal bars in Y direction in one row\n",
    "fsy = 420.0\t\t# [MPa], Yield Tensile Strength of longitudinal steel\n",
    "fsu = 550.0     # [MPa], Ultimate Tensile Strength of longitudinal steel\n",
    "Es  = 200000.0\t\t# [MPa], Elastic modulus of longitudinal steel\n",
    "εsh = 0.008\t\t# Strain hardening of longitudinal steel\n",
    "εsu = 0.08\t\t# Ultimate strain of longitudinal steel\n",
    "\n",
    "# Stirrups\n",
    "φw   = 8.0\t\t# [mm], Diameter of stirrups\n",
    "s    = 100.0\t# [mm], Stirrup spacing (distance between Stirrups)\n",
    "nwx  = 2 \t\t# number of stirrups by taking a ‘cut’ across the section in the ‘X direction’\n",
    "nwy  = 2 \t\t# number of stirrups by taking a ‘cut’ across the section in the ‘Y direction’\n",
    "fsyw = 420.0\t# [MPa], Tensile Strength of transverse steel (stirrups)\n",
    "Esw  = 200000.0\t# [MPa], Elastic modulus of transverse steel (stirrups)\n",
    "εsuw = 0.08\t\t# Ultimate strain of transverse steel (stirrups)\n",
    "\n",
    "# Concrete\n",
    "fcuno = 25.0    # [MPa], Compressive Strength of Unconfined Concrete (cylinder specimen)\n",
    "Ec    = 5000.0*sqrt(fcuno)  # [MPa], Modulus of elasticity of concrete\n",
    "\n",
    "####### Analysis \n",
    "#### Y doğrultusunda çözüyoruz.###\n",
    "\"Sectional Properties\"\n",
    "cs = cc+φw+φs/2          # Concrete cover from the center of long. bars\n",
    "cw = cc+φw/2             # Concrete cover from the center of stirrups\n",
    "bo = b-2*cw              # Section width between the center of stirrups\n",
    "ho = h-2*cw              # Section height between the center of stirrups\n",
    "b1 = b-2*cs              # Section width between the long. bars\n",
    "h1 = h-2*cs              # Section height between the long. bars\n",
    "ns = 2*nsx + 2*(nsy-2)   # Number of long. bars\n",
    "print(\"# of long. bars:\",ns)\n",
    "As = (π*φs**2/4)*ns      # Total area of long. bars"
   ]
  },
  {
   "cell_type": "code",
   "execution_count": 6,
   "metadata": {},
   "outputs": [
    {
     "data": {
      "image/png": "[encoded data removed]",
      "text/plain": [
       "<Figure size 432x288 with 1 Axes>"
      ]
     },
     "metadata": {
      "needs_background": "light"
     },
     "output_type": "display_data"
    }
   ],
   "source": [
    "#%% GENERAL SOLUTIONS\n",
    "\" Mander Unconfined and Confined Concrete Compressive Constitutive Material Model\"\n",
    "# Unconfined Concrete\n",
    "εcun,σcun,εcuno,fcuno,εcunm,fcunm = ManderUnconfined(fcuno,Ec)\n",
    "# confined Concrete\n",
    "εcc,σcc,εcco,fcco,εccu,fccu = ManderConfined(bo,b1,ho,h1,nsx,nsy,As,s,φw,nwx,nwy,fsyw,fcuno,Ec)\n",
    "\n",
    "# Plot the curves\n",
    "fig, grfk = mplot.subplots()  \n",
    "grfk.plot(εcun,σcun, color=\"r\",label='Unconfined',linewidth=3,marker='x',markersize=3,markerfacecolor=\"k\",markeredgecolor=\"k\")\n",
    "grfk.plot(εcc, σcc,  color=\"b\",label='Confined', linewidth=3,marker='x',markersize=3,markerfacecolor=\"k\",markeredgecolor=\"k\")\n",
    "grfk.set(xlabel=\"Strain\", ylabel=\"Stress (MPa)\", title=\"Constitutive Material Model for Concrete in Compression\")\n",
    "grfk.grid(); grfk.legend(loc=\"best\"); mplot.show()"
   ]
  },
  {
   "cell_type": "code",
   "execution_count": null,
   "metadata": {},
   "outputs": [],
   "source": []
  }
 ],
 "metadata": {
  "hide_input": false,
  "kernelspec": {
   "display_name": "Python 3 (ipykernel)",
   "language": "python",
   "name": "python3"
  },
  "language_info": {
   "codemirror_mode": {
    "name": "ipython",
    "version": 3
   },
   "file_extension": ".py",
   "mimetype": "text/x-python",
   "name": "python",
   "nbconvert_exporter": "python",
   "pygments_lexer": "ipython3",
   "version": "3.9.12"
  },
  "varInspector": {
   "cols": {
    "lenName": 16,
    "lenType": 16,
    "lenVar": 40
   },
   "kernels_config": {
    "python": {
     "delete_cmd_postfix": "",
     "delete_cmd_prefix": "del ",
     "library": "var_list.py",
     "varRefreshCmd": "print(var_dic_list())"
    },
    "r": {
     "delete_cmd_postfix": ") ",
     "delete_cmd_prefix": "rm(",
     "library": "var_list.r",
     "varRefreshCmd": "cat(var_dic_list()) "
    }
   },
   "types_to_exclude": [
    "module",
    "function",
    "builtin_function_or_method",
    "instance",
    "_Feature"
   ],
   "window_display": false
  }
 },
 "nbformat": 4,
 "nbformat_minor": 4
}
