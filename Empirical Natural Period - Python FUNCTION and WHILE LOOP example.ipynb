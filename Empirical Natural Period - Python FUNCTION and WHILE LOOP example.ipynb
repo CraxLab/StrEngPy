{
 "cells": [
  {
   "cell_type": "markdown",
   "metadata": {},
   "source": [
    "**CraxLab.net | CxL | Department of Civil Engineering | Sakarya University**\n",
    "\n",
    "---"
   ]
  },
  {
   "cell_type": "markdown",
   "metadata": {},
   "source": [
    "### Example:\n",
    "\n",
    "Turkish Seismic Code for Buildings - 2019\n",
    "\n",
    "<img src=\"./figures_files/Ex_EmpiricalPeriod.png\" align=\"left\"/>"
   ]
  },
  {
   "cell_type": "code",
   "execution_count": 1,
   "metadata": {},
   "outputs": [
    {
     "name": "stdout",
     "output_type": "stream",
     "text": [
      "SEÇENEKLER:\n",
      "Betonarme çerçeve: 1\n",
      "Çelik çerçeve    : 2\n",
      "Diğer tüm binalar: 3\n",
      "programdan çıkmak için \"q\" harfine basınız \n",
      "\n",
      "Bina türünü yukarıdaki seçeneklere göre giriniz:2\n",
      "\n",
      "Çelik çerçeve seçildi.\n",
      "Bina yüksekliğini giriniz [m]:10\n",
      "\n",
      "\n",
      "Ampirik doğal hakim titreşim periyodu, TpA= 0.4498730601522793 s \n",
      "\n",
      "\n",
      "\n",
      "SEÇENEKLER:\n",
      "Betonarme çerçeve: 1\n",
      "Çelik çerçeve    : 2\n",
      "Diğer tüm binalar: 3\n",
      "programdan çıkmak için \"q\" harfine basınız \n",
      "\n",
      "Bina türünü yukarıdaki seçeneklere göre giriniz:q\n",
      "\n",
      "Programdan çıkıldı.\n"
     ]
    }
   ],
   "source": [
    "def periyot(Hn, Ct):\n",
    "    return Ct*Hn**(3/4)\n",
    "    \n",
    "while True:\n",
    "    print(\"SEÇENEKLER:\")\n",
    "    print(\"Betonarme çerçeve: 1\")\n",
    "    print(\"Çelik çerçeve    : 2\")\n",
    "    print(\"Diğer tüm binalar: 3\")\n",
    "    print (\"programdan çıkmak için \\\"q\\\" harfine basınız \\n\")\n",
    "        \n",
    "    binaTürü = input(\"Bina türünü yukarıdaki seçeneklere göre giriniz:\")    \n",
    "    if binaTürü==\"q\" or binaTürü==\"Q\":\n",
    "        print(\"\\nProgramdan çıkıldı.\")\n",
    "        break\n",
    "    elif binaTürü == \"1\":\n",
    "        print(\"\\nBetonarme çerçeve seçildi.\")\n",
    "        Ct = 0.1\n",
    "    elif binaTürü == \"2\":\n",
    "        print(\"\\nÇelik çerçeve seçildi.\")\n",
    "        Ct = 0.08\n",
    "    elif binaTürü == \"3\":\n",
    "        print(\"\\nDiğer bina türü seçildi.\")\n",
    "        Ct = 0.07\n",
    "    else: \n",
    "        print(\"Hata: yanlış seçim yapıldı.\")\n",
    "        continue\n",
    "    \n",
    "    binaHn = input(\"Bina yüksekliğini giriniz [m]:\")\n",
    "    if binaHn==\"q\" or binaTürü==\"Q\":\n",
    "        print(\"\\nProgramdan çıkıldı.\")\n",
    "        break\n",
    "    \n",
    "    \n",
    "    TpA = periyot(float(binaHn), Ct)\n",
    "    print(\"\\n\\nAmpirik doğal hakim titreşim periyodu, TpA=\", TpA, end=\" s \\n\\n\\n\\n\")"
   ]
  },
  {
   "cell_type": "code",
   "execution_count": null,
   "metadata": {},
   "outputs": [],
   "source": []
  }
 ],
 "metadata": {
  "hide_input": false,
  "kernelspec": {
   "display_name": "Python 3 (ipykernel)",
   "language": "python",
   "name": "python3"
  },
  "language_info": {
   "codemirror_mode": {
    "name": "ipython",
    "version": 3
   },
   "file_extension": ".py",
   "mimetype": "text/x-python",
   "name": "python",
   "nbconvert_exporter": "python",
   "pygments_lexer": "ipython3",
   "version": "3.9.12"
  },
  "varInspector": {
   "cols": {
    "lenName": 16,
    "lenType": 16,
    "lenVar": 40
   },
   "kernels_config": {
    "python": {
     "delete_cmd_postfix": "",
     "delete_cmd_prefix": "del ",
     "library": "var_list.py",
     "varRefreshCmd": "print(var_dic_list())"
    },
    "r": {
     "delete_cmd_postfix": ") ",
     "delete_cmd_prefix": "rm(",
     "library": "var_list.r",
     "varRefreshCmd": "cat(var_dic_list()) "
    }
   },
   "types_to_exclude": [
    "module",
    "function",
    "builtin_function_or_method",
    "instance",
    "_Feature"
   ],
   "window_display": false
  }
 },
 "nbformat": 4,
 "nbformat_minor": 4
}
